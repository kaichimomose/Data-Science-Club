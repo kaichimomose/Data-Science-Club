{
 "cells": [
  {
   "cell_type": "markdown",
   "metadata": {},
   "source": [
    "## Test Your Setup\n",
    "\n",
    "Uncomment the following import statements, and then run the box by pressing SHIFT + ENTER."
   ]
  },
  {
   "cell_type": "code",
   "execution_count": 3,
   "metadata": {
    "collapsed": true
   },
   "outputs": [],
   "source": [
    "import numpy"
   ]
  },
  {
   "cell_type": "code",
   "execution_count": 1,
   "metadata": {
    "collapsed": true
   },
   "outputs": [],
   "source": [
    "import pandas"
   ]
  },
  {
   "cell_type": "code",
   "execution_count": 2,
   "metadata": {
    "collapsed": true
   },
   "outputs": [],
   "source": [
    "import sklearn"
   ]
  },
  {
   "cell_type": "markdown",
   "metadata": {},
   "source": [
    "### Everything works! No errors.\n",
    "If you don't get an error message, then everything is working fine.  Move on to the next noteook.  \n",
    "\n",
    "### Ahh! Errors everywhere!\n",
    "Then debug them, and run this again until it works.  The common culprits here are:\n",
    "\n",
    "1.  Incorrect version of Python\n",
    "1.  Missing packages\n",
    "\n",
    "We'll solve both of these problems by creating a virual environment and using conda to install all necessary packages.\n",
    "\n",
    "### Creating a Virtual Environment\n",
    "\n",
    "Since you installed Anaconda, you'll be using it as your package manager for Python now.  This means that you need to install packages using `conda install [xxxxxx]` instead of `pip install [xxxxxx]`. The easiest solution to this is to create a new virtual environment (using conda, not venv) and explicitly set the python version during the creation.  \n",
    "\n",
    "The following command creates a virtual environment called \"py36\" and installs the meta-package \"anaconda\", which includes things like numpy, scipy, pandas, etc.  If you want to call your kernel something different, then just change `py36` to whatever you would like to name the virtual environment.  \n",
    "\n",
    "`conda create -n py36 python=3.6 anaconda`\n",
    "\n",
    "(Note: Although the Anaconda command after `python=3.6` is optional, it's highly recommended.  You're just going to install all that stuff anyways, so save yourself the time and do it now!)\n",
    "\n",
    "Once you have created your virtual environment, you can run it by entering `source activate py36` (or whatever your kernel's name is--just replace `py36` with the correct name). Once it's running, you can use `pip install [package-name]` in order to install the correct packages. You do not need to use `conda install [package-name]`.  Since you are inside the virtual environment that conda is running, the instance of python installed in this virtual environment can handle everything just fine.  \n",
    "\n",
    "For more information on managing Python, creating virual environments, or other general conda stuff, [follow this link](https://conda.io/docs/user-guide/tasks/manage-python.html). \n",
    "\n",
    "### Wait! What is a virtual environment?\n",
    "\n",
    "Good question! Virtual environments are a way of making sure that no one else can break your code by updating a dependency.  Let's say we were going to write some code to create a neural network using `Tensorflow`.  Right now, we'd be using `Tensorflow 1.4`.  Other people can download our code, and run it, and learn all kinds of cool tensorflow-y stuff from us.  Hooray!\n",
    "\n",
    "But....\n",
    "\n",
    "Tensorflow is still young.  Some part of the syntax seems to change every time they make a new update, and they make a TON of updates.  As data scientists and software engineers, we want to keep up with these changes and download every new version that comes out...but what happens when Tensorflow makes an update that changes syntax and breaks our old code? How do we prevent against that?  Do I have to choose between installing `Tensorflow 1.5` and breaking/updating all my old code, or keeping my old code working but getting stuck in the past using an old version of this package? Answer: we use a **Virtual Environment** to take a snapshot of the dependencies our code requires. \n",
    "\n",
    "A **Virtual Environment** is a way of making sure that we have the correct versions of all dependencies installed for the code we'll be running.  This way, when I run this code again, it will always be running an instance of Python that has all the correct versions of my dependencies, even if I've updated those dependencies outside of the virtual environment. \n",
    "\n",
    "This way, you can update to new versions, while ensuring all your old code will still work!"
   ]
  },
  {
   "cell_type": "code",
   "execution_count": null,
   "metadata": {
    "collapsed": true
   },
   "outputs": [],
   "source": []
  }
 ],
 "metadata": {
  "anaconda-cloud": {},
  "kernelspec": {
   "display_name": "Python 3",
   "language": "python",
   "name": "python3"
  },
  "language_info": {
   "codemirror_mode": {
    "name": "ipython",
    "version": 3
   },
   "file_extension": ".py",
   "mimetype": "text/x-python",
   "name": "python",
   "nbconvert_exporter": "python",
   "pygments_lexer": "ipython3",
   "version": "3.6.3"
  }
 },
 "nbformat": 4,
 "nbformat_minor": 2
}
